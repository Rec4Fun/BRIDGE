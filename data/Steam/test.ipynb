{
 "cells": [
  {
   "cell_type": "code",
   "execution_count": 3,
   "metadata": {},
   "outputs": [],
   "source": [
    "import scipy.sparse as sp\n",
    "import numpy as np\n",
    "import pandas as pd\n",
    "nu, nb, ni = 29634,\t615,\t2819\n"
   ]
  },
  {
   "cell_type": "code",
   "execution_count": 2,
   "metadata": {},
   "outputs": [],
   "source": [
    "ui = pd.read_csv('user_item.txt', sep='\\t', names=['u', 'i'])\n",
    "ui_pairs = ui.to_numpy()"
   ]
  },
  {
   "cell_type": "code",
   "execution_count": 4,
   "metadata": {},
   "outputs": [],
   "source": [
    "ui_graph = sp.coo_matrix(\n",
    "    (np.ones(ui_pairs.shape[0]), (ui_pairs[:, 0], ui_pairs[:, 1])),\n",
    "    shape=(nu, ni)\n",
    ")"
   ]
  },
  {
   "cell_type": "code",
   "execution_count": 5,
   "metadata": {},
   "outputs": [],
   "source": [
    "iui = ui_graph.T @ ui_graph"
   ]
  },
  {
   "cell_type": "code",
   "execution_count": 21,
   "metadata": {},
   "outputs": [
    {
     "data": {
      "text/plain": [
       "(tensor([[2783,  933,  116, 1546,  204, 1281,  157,   98,  499,  147, 2503,  666,\n",
       "           129, 2818,  141,  150,  163,  256,  614,  702]]),\n",
       " tensor([[143., 131., 130., 125., 115., 106.,  92.,  91.,  87.,  87.,  86.,  78.,\n",
       "           78.,  76.,  75.,  75.,  74.,  73.,  73.,  72.]], dtype=torch.float64))"
      ]
     },
     "execution_count": 21,
     "metadata": {},
     "output_type": "execute_result"
    }
   ],
   "source": [
    "import torch\n",
    "\n",
    "# for eacch item gen a bundle intersect with historical item\n",
    "\n",
    "x = torch.tensor(iui[2783].todense())\n",
    "_, ids = torch.topk(x, k=20, dim=1)\n",
    "ids, _"
   ]
  }
 ],
 "metadata": {
  "kernelspec": {
   "display_name": "base",
   "language": "python",
   "name": "python3"
  },
  "language_info": {
   "codemirror_mode": {
    "name": "ipython",
    "version": 3
   },
   "file_extension": ".py",
   "mimetype": "text/x-python",
   "name": "python",
   "nbconvert_exporter": "python",
   "pygments_lexer": "ipython3",
   "version": "3.12.2"
  }
 },
 "nbformat": 4,
 "nbformat_minor": 2
}
